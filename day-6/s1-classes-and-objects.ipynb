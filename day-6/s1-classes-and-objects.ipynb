{
 "cells": [
  {
   "cell_type": "markdown",
   "id": "e1992dfa-ee0d-48a3-a6d2-54ccb370671f",
   "metadata": {},
   "source": [
    "### Classes and Objects"
   ]
  },
  {
   "cell_type": "code",
   "execution_count": 10,
   "id": "9fc12e69-2093-4c40-be17-721d510502f0",
   "metadata": {},
   "outputs": [],
   "source": [
    "class Student:\n",
    "\n",
    "    # Attributes\n",
    "\n",
    "    # Class Variable\n",
    "    nstudents = 0\n",
    "\n",
    "    # Instance Attributes, Constructor\n",
    "    def __init__(self, a, b, c):\n",
    "        self.name = a\n",
    "        self.age  = b\n",
    "        self.grade = c\n",
    "\n",
    "\n",
    "    # Methods/functions/procedures\n",
    "    def printInfo(self, greet):\n",
    "        print(\"Self : \", self)\n",
    "        print(\"Class variable: \", Student.nstudents)\n",
    "        print(f\"{greet}, {self.name} --> {self.age} --> {self.grade}\")\n",
    "    "
   ]
  },
  {
   "cell_type": "code",
   "execution_count": 18,
   "id": "c7ff9ba9-91e3-471a-86be-ef002b615827",
   "metadata": {},
   "outputs": [],
   "source": [
    "s1 = Student(\"Anil\", 12, 9)"
   ]
  },
  {
   "cell_type": "code",
   "execution_count": 20,
   "id": "5dd394ca-dbc7-4f8a-956a-5dd9810e85e9",
   "metadata": {},
   "outputs": [
    {
     "data": {
      "text/plain": [
       "<__main__.Student at 0x22385effd70>"
      ]
     },
     "execution_count": 20,
     "metadata": {},
     "output_type": "execute_result"
    }
   ],
   "source": [
    "s1"
   ]
  },
  {
   "cell_type": "code",
   "execution_count": 22,
   "id": "3f3e3b29-1390-4ea7-b17a-2996c0521e11",
   "metadata": {},
   "outputs": [
    {
     "name": "stdout",
     "output_type": "stream",
     "text": [
      "Self :  <__main__.Student object at 0x0000022385EFFD70>\n",
      "Class variable:  0\n",
      "Hi, Anil --> 12 --> 9\n"
     ]
    }
   ],
   "source": [
    "s1.printInfo(\"Hi\")"
   ]
  },
  {
   "cell_type": "code",
   "execution_count": 24,
   "id": "658c93bd-9c32-4cb6-93db-13077364d9de",
   "metadata": {},
   "outputs": [],
   "source": [
    "s2 = Student(\"Sunil\", 12, 9)"
   ]
  },
  {
   "cell_type": "code",
   "execution_count": 26,
   "id": "8b9f87a4-507f-4f6b-9ced-fec78f065bad",
   "metadata": {},
   "outputs": [
    {
     "data": {
      "text/plain": [
       "<__main__.Student at 0x22385afcfb0>"
      ]
     },
     "execution_count": 26,
     "metadata": {},
     "output_type": "execute_result"
    }
   ],
   "source": [
    "s2"
   ]
  },
  {
   "cell_type": "code",
   "execution_count": 28,
   "id": "3837fe58-147a-4424-8218-2981297b654d",
   "metadata": {},
   "outputs": [
    {
     "name": "stdout",
     "output_type": "stream",
     "text": [
      "Self :  <__main__.Student object at 0x0000022385AFCFB0>\n",
      "Class variable:  0\n",
      "Hello, Sunil --> 12 --> 9\n"
     ]
    }
   ],
   "source": [
    "s2.printInfo(\"Hello\")"
   ]
  },
  {
   "cell_type": "markdown",
   "id": "8cb44028-1b1f-4f1a-9efc-df6da03b3763",
   "metadata": {},
   "source": [
    "### Exercise"
   ]
  },
  {
   "cell_type": "markdown",
   "id": "1aafb574-e0b8-429d-8d24-22dcb723cf9d",
   "metadata": {},
   "source": [
    "Create a employee class with the following features:\n",
    "name, age, company, gross_salary, tax_rate, net_salary\n",
    "Implement methods to: print information, create an object and use it to print the information\n",
    "# Upgrade: calculate net_salary based on tax rate, set the gross salary, set the tax rate"
   ]
  }
 ],
 "metadata": {
  "kernelspec": {
   "display_name": "Python 3 (ipykernel)",
   "language": "python",
   "name": "python3"
  },
  "language_info": {
   "codemirror_mode": {
    "name": "ipython",
    "version": 3
   },
   "file_extension": ".py",
   "mimetype": "text/x-python",
   "name": "python",
   "nbconvert_exporter": "python",
   "pygments_lexer": "ipython3",
   "version": "3.12.7"
  }
 },
 "nbformat": 4,
 "nbformat_minor": 5
}
